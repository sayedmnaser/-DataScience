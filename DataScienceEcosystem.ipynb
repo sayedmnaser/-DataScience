{
  "metadata": {
    "kernelspec": {
      "name": "python",
      "display_name": "Python (Pyodide)",
      "language": "python"
    },
    "language_info": {
      "codemirror_mode": {
        "name": "python",
        "version": 3
      },
      "file_extension": ".py",
      "mimetype": "text/x-python",
      "name": "python",
      "nbconvert_exporter": "python",
      "pygments_lexer": "ipython3",
      "version": "3.8"
    }
  },
  "nbformat_minor": 5,
  "nbformat": 4,
  "cells": [
    {
      "id": "275055b6-fc96-4678-adbf-82cac6fbddef",
      "cell_type": "code",
      "source": "#Data Science Tools and Ecosystem\nIn this notebook, Data Science Tools and Ecosystem are summarized.",
      "metadata": {
        "trusted": true
      },
      "outputs": [
        {
          "ename": "<class 'SyntaxError'>",
          "evalue": "invalid syntax (<ipython-input-1-14b4431c2331>, line 2)",
          "traceback": [
            "\u001b[0;36m  Cell \u001b[0;32mIn[1], line 2\u001b[0;36m\u001b[0m\n\u001b[0;31m    In this notebook, Data Science Tools and Ecosystem are summarized.\u001b[0m\n\u001b[0m       ^\u001b[0m\n\u001b[0;31mSyntaxError\u001b[0m\u001b[0;31m:\u001b[0m invalid syntax\n"
          ],
          "output_type": "error"
        }
      ],
      "execution_count": 1
    },
    {
      "id": "c0c48e5c-c173-4a49-9673-7de216c9fb03",
      "cell_type": "code",
      "source": "#Data Science Tools and Ecosystem\n\"In this notebook, Data Science Tools and Ecosystem are summarized.\"",
      "metadata": {
        "trusted": true
      },
      "outputs": [
        {
          "execution_count": 2,
          "output_type": "execute_result",
          "data": {
            "text/plain": "'In this notebook, Data Science Tools and Ecosystem are summarized.'"
          },
          "metadata": {}
        }
      ],
      "execution_count": 2
    },
    {
      "id": "1bc084f6-c51e-48cc-ad2f-68837bb2e81e",
      "cell_type": "markdown",
      "source": "##Data Science Tools and Ecosystem\n\"In this notebook, Data Science Tools and Ecosystem are summarized.\"",
      "metadata": {}
    },
    {
      "id": "89ea5dd7-7b31-4725-8201-dcf60bb1ef80",
      "cell_type": "markdown",
      "source": "# Data Science Tools and Ecosystem\nIn this notebook, Data Science Tools and Ecosystem are summarized.",
      "metadata": {}
    },
    {
      "id": "84eb5d24-a6bb-44b3-845e-ae03b696a243",
      "cell_type": "markdown",
      "source": "Some of the popular languages that Data Scientists use are:\n* Python\n* Java\n* Scratch",
      "metadata": {}
    },
    {
      "id": "9eeda1a7-8db9-40f3-8aa8-53792c6a2373",
      "cell_type": "markdown",
      "source": "Some of the commonly used libraries used by Data Scientists include:\n* Pandas\n* Pytorch \n* Numpy ",
      "metadata": {}
    },
    {
      "id": "85602024-a821-428e-b496-d719da906c4c",
      "cell_type": "markdown",
      "source": "| Data Science Tools |\n|---|\n|JupyterLab/Jupyter Notebook|\n|RStudio|\n|VS Code|",
      "metadata": {}
    },
    {
      "id": "8268d155-b073-45ac-9884-cdffe161af24",
      "cell_type": "markdown",
      "source": "### Below are a few examples of evaluating arithmetic expressions in Python",
      "metadata": {}
    },
    {
      "id": "b3eb1e28-b9f6-40a3-9397-875eccf0c3c2",
      "cell_type": "code",
      "source": "# This a simple arithmetic expression to mutiply then add integers\n(3*4)+5",
      "metadata": {
        "trusted": true
      },
      "outputs": [
        {
          "execution_count": 3,
          "output_type": "execute_result",
          "data": {
            "text/plain": "17"
          },
          "metadata": {}
        }
      ],
      "execution_count": 3
    },
    {
      "id": "40ea6811-3a6a-416c-8cf6-3ccf1acf75ff",
      "cell_type": "code",
      "source": "# This will convert 200 minutes to hours by diving by 60\n200/60",
      "metadata": {
        "trusted": true
      },
      "outputs": [
        {
          "execution_count": 4,
          "output_type": "execute_result",
          "data": {
            "text/plain": "3.3333333333333335"
          },
          "metadata": {}
        }
      ],
      "execution_count": 4
    },
    {
      "id": "ce7b4318-4197-4d8e-b328-012eca08cf0d",
      "cell_type": "markdown",
      "source": "**Objectives:**\n* List popular languages for Data Science\n* List of popular libraries\n* List of popular data science tools",
      "metadata": {}
    },
    {
      "id": "7dc38441-c19b-436d-a765-775f35ea9f0d",
      "cell_type": "markdown",
      "source": "## Author \nMansoor",
      "metadata": {}
    },
    {
      "id": "ee47c0f4-fbbc-4633-90b0-0ef2db975bef",
      "cell_type": "code",
      "source": "",
      "metadata": {
        "trusted": true
      },
      "outputs": [],
      "execution_count": null
    }
  ]
}
